{
 "cells": [
  {
   "cell_type": "markdown",
   "metadata": {},
   "source": [
    "#  Géo API"
   ]
  },
  {
   "cell_type": "markdown",
   "metadata": {
    "heading_collapsed": true
   },
   "source": [
    "## Description of Notebook \n",
    "\n",
    "This Notebook imports a CSV file into a dataframe, treats all the positions amd returns a new dataframe with: \n",
    "- housenumber\n",
    "- address\n",
    "- distance of point to position\n",
    "\n",
    "Finally, it exports the result to a new CSV file. \n"
   ]
  },
  {
   "cell_type": "markdown",
   "metadata": {
    "ExecuteTime": {
     "end_time": "2019-05-29T09:07:48.432544Z",
     "start_time": "2019-05-29T09:07:48.422935Z"
    }
   },
   "source": [
    "## Import Libraries"
   ]
  },
  {
   "cell_type": "code",
   "execution_count": null,
   "metadata": {},
   "outputs": [],
   "source": [
    "import pandas as pd\n",
    "import chardet\n",
    "import time"
   ]
  },
  {
   "cell_type": "markdown",
   "metadata": {},
   "source": [
    "detect CSV file encoding and return the Encoding. "
   ]
  },
  {
   "cell_type": "code",
   "execution_count": null,
   "metadata": {
    "ExecuteTime": {
     "end_time": "2019-05-29T09:09:07.772914Z",
     "start_time": "2019-05-29T09:09:07.672795Z"
    }
   },
   "outputs": [],
   "source": [
    "filePath='E:/Feina/Autonoms/CTG_Project/AOAngers3/travailW21/ETL_Angers_20190526.csv'\n",
    "with open(filePath, 'rb') as f:\n",
    "    result = chardet.detect(f.read())\n",
    "result"
   ]
  },
  {
   "cell_type": "markdown",
   "metadata": {},
   "source": [
    "## Import of the data \n",
    "\n",
    "Opens the file with the found encoding. Usually 'UTF-8' (but not always)\n",
    "\n",
    "the separator is set to ';'\n",
    "\n",
    "Store the data in a dataframe"
   ]
  },
  {
   "cell_type": "code",
   "execution_count": null,
   "metadata": {},
   "outputs": [],
   "source": [
    "data= pd.read_csv(filePath, sep=';', header='infer', encoding=result['encoding'])"
   ]
  },
  {
   "cell_type": "markdown",
   "metadata": {},
   "source": [
    "API querying to the \"api-adresse.data.gouv.fr\" website. \n",
    "\n",
    "Store the results in three separate lists. "
   ]
  },
  {
   "cell_type": "code",
   "execution_count": null,
   "metadata": {},
   "outputs": [],
   "source": [
    "# list creation\n",
    "housenbr=[]\n",
    "rue=[]\n",
    "distance=[]\n",
    "\n",
    "for i in range(data.shape[0]):\n",
    "    long, lat =(str(data['X'][i])), (str(data['Y'][i]))\n",
    "# if decimal separator is a comma, replace it by a . \n",
    "    long=long.replace(',','.')\n",
    "    lat=lat.replace(',','.')\n",
    "\n",
    "#  print(long, lat)\n",
    "    url='https://api-adresse.data.gouv.fr/reverse/?lon=%s&lat=%s'%(long, lat)\n",
    "    print(url)\n",
    "    r = requests.get(url)\n",
    "    response=r.json(); res2=response['features']\n",
    "    try: num= res2[0]['properties']['housenumber']\n",
    "    except: num = 'vide'\n",
    "    housenbr.append(num)\n",
    "    try: stret= res2[0]['properties']['street']\n",
    "    except: stret= res2[0]['properties']['name']\n",
    "    rue.append(stret)\n",
    "    distance.append(res2[0]['properties']['distance'])\n",
    "    if (i%50)>48:\n",
    "        time.sleep(1)   # custom the stop time according to use policies. \n",
    "        print('=======%s======='%format(str(i)))\n",
    "    print('------------------------')\n"
   ]
  },
  {
   "cell_type": "markdown",
   "metadata": {},
   "source": [
    "check the results are homogenous. "
   ]
  },
  {
   "cell_type": "code",
   "execution_count": null,
   "metadata": {},
   "outputs": [],
   "source": [
    "print('rue     :', len(rue))\n",
    "print('Numero  :', len(housenbr))\n",
    "print('distance:', len(distance))\n",
    "print('dataframe: ', data.shape())"
   ]
  },
  {
   "cell_type": "markdown",
   "metadata": {},
   "source": [
    "append the recovered data to the dataframe "
   ]
  },
  {
   "cell_type": "code",
   "execution_count": null,
   "metadata": {},
   "outputs": [],
   "source": [
    "data['rue']=rue\n",
    "data['numero']=housenbr\n",
    "data['dist']=distance"
   ]
  },
  {
   "cell_type": "markdown",
   "metadata": {},
   "source": [
    " ## Export the data\n",
    " "
   ]
  },
  {
   "cell_type": "code",
   "execution_count": null,
   "metadata": {},
   "outputs": [],
   "source": [
    "# name the resulting file\n",
    "file='E:/Feina/Autonoms/CTG_Project/AOAngers3/travailW21/API_Angers_20190528.csv'\n",
    "\n",
    "# export the data to the CSV file\n",
    "data.to_csv(file, sep=';', encoding='utf-8')"
   ]
  },
  {
   "cell_type": "code",
   "execution_count": null,
   "metadata": {},
   "outputs": [],
   "source": []
  }
 ],
 "metadata": {
  "kernelspec": {
   "display_name": "Python 3",
   "language": "python",
   "name": "python3"
  },
  "language_info": {
   "codemirror_mode": {
    "name": "ipython",
    "version": 3
   },
   "file_extension": ".py",
   "mimetype": "text/x-python",
   "name": "python",
   "nbconvert_exporter": "python",
   "pygments_lexer": "ipython3",
   "version": "3.6.8"
  },
  "nbTranslate": {
   "displayLangs": [
    "*"
   ],
   "hotkey": "alt-t",
   "langInMainMenu": true,
   "sourceLang": "en",
   "targetLang": "fr",
   "useGoogleTranslate": true
  },
  "toc": {
   "base_numbering": 1,
   "nav_menu": {},
   "number_sections": true,
   "sideBar": true,
   "skip_h1_title": false,
   "title_cell": "Table of Contents",
   "title_sidebar": "Contents",
   "toc_cell": false,
   "toc_position": {},
   "toc_section_display": true,
   "toc_window_display": false
  },
  "varInspector": {
   "cols": {
    "lenName": 16,
    "lenType": 16,
    "lenVar": 40
   },
   "kernels_config": {
    "python": {
     "delete_cmd_postfix": "",
     "delete_cmd_prefix": "del ",
     "library": "var_list.py",
     "varRefreshCmd": "print(var_dic_list())"
    },
    "r": {
     "delete_cmd_postfix": ") ",
     "delete_cmd_prefix": "rm(",
     "library": "var_list.r",
     "varRefreshCmd": "cat(var_dic_list()) "
    }
   },
   "types_to_exclude": [
    "module",
    "function",
    "builtin_function_or_method",
    "instance",
    "_Feature"
   ],
   "window_display": false
  }
 },
 "nbformat": 4,
 "nbformat_minor": 2
}
